{
 "cells": [
  {
   "cell_type": "markdown",
   "metadata": {},
   "source": [
    "# Parse Apache Superset Export File\n",
    "\n",
    "A Jupyter Notebook for Parsing Apache Superset Dashboard JSON Export Files."
   ]
  },
  {
   "cell_type": "markdown",
   "metadata": {},
   "source": [
    "#### Import Libraries"
   ]
  },
  {
   "cell_type": "code",
   "execution_count": null,
   "metadata": {},
   "outputs": [],
   "source": [
    "import pandas as pd\n",
    "import json"
   ]
  },
  {
   "cell_type": "markdown",
   "metadata": {},
   "source": [
    "#### Select File Location"
   ]
  },
  {
   "cell_type": "code",
   "execution_count": null,
   "metadata": {},
   "outputs": [],
   "source": [
    "file = open(r'')"
   ]
  },
  {
   "cell_type": "markdown",
   "metadata": {},
   "source": [
    "#### Load JSON File as Text"
   ]
  },
  {
   "cell_type": "code",
   "execution_count": null,
   "metadata": {},
   "outputs": [],
   "source": [
    "data = json.load(file)"
   ]
  },
  {
   "cell_type": "markdown",
   "metadata": {},
   "source": [
    "## Access Dashboard Metadata"
   ]
  },
  {
   "cell_type": "code",
   "execution_count": null,
   "metadata": {},
   "outputs": [],
   "source": [
    "meta = data[\"dashboards\"][0]\n",
    "\n",
    "meta_df = pd.DataFrame(meta)\n",
    "meta_df"
   ]
  },
  {
   "cell_type": "markdown",
   "metadata": {},
   "source": [
    "## Get Charts"
   ]
  },
  {
   "cell_type": "code",
   "execution_count": null,
   "metadata": {},
   "outputs": [],
   "source": [
    "slices = data[\"dashboards\"][0][\"__Dashboard__\"][\"slices\"]\n",
    "\n",
    "charts = []\n",
    "for s in slices:\n",
    "    charts.append(s[\"__Slice__\"])\n",
    "    \n",
    "charts_df = pd.DataFrame(charts)\n",
    "charts_df"
   ]
  },
  {
   "cell_type": "code",
   "execution_count": null,
   "metadata": {},
   "outputs": [],
   "source": [
    "charts_df.info()"
   ]
  },
  {
   "cell_type": "code",
   "execution_count": null,
   "metadata": {},
   "outputs": [],
   "source": [
    "print(\"CHART IDs = \" + str(len(charts_df.id.unique())))\n",
    "print(\"DATASOURCE NAMES = \" + str(len(charts_df.datasource_name.unique())))\n",
    "print(charts_df.datasource_name.unique())\n",
    "print(\"CHARTS = \" + str(len(charts_df.slice_name.unique())))\n",
    "print(charts_df.slice_name.unique())\n",
    "print(\"VIZ TYPES = \" + str(len(charts_df.viz_type.unique())))\n",
    "print(charts_df.viz_type.unique())"
   ]
  },
  {
   "cell_type": "markdown",
   "metadata": {},
   "source": [
    "## Get Data SQL Tables"
   ]
  },
  {
   "cell_type": "code",
   "execution_count": null,
   "metadata": {},
   "outputs": [],
   "source": [
    "datasources = data[\"datasources\"]\n",
    "\n",
    "sql_tables = []\n",
    "for d in datasources:\n",
    "    sql_tables.append(d[\"__SqlaTable__\"])\n",
    "    \n",
    "sql_tables_df = pd.DataFrame(sql_tables)\n",
    "sql_tables_df"
   ]
  },
  {
   "cell_type": "code",
   "execution_count": null,
   "metadata": {},
   "outputs": [],
   "source": [
    "sql_tables_df.info()"
   ]
  },
  {
   "cell_type": "code",
   "execution_count": null,
   "metadata": {},
   "outputs": [],
   "source": [
    "print(\"DATABASE ID = \" + str(len(sql_tables_df.database_id.unique())))\n",
    "print(sql_tables_df.database_id.unique())\n",
    "print(\"TABLE NAMES = \" + str(len(sql_tables_df.table_name.unique())))\n",
    "print(sql_tables_df.table_name.unique())\n",
    "print(\"SCHEMAS = \" + str(len(sql_tables_df.schema.unique())))\n",
    "print(sql_tables_df.schema.unique())"
   ]
  },
  {
   "cell_type": "markdown",
   "metadata": {},
   "source": [
    "## Get Table Columns"
   ]
  },
  {
   "cell_type": "code",
   "execution_count": null,
   "metadata": {},
   "outputs": [],
   "source": [
    "columns = []\n",
    "for t in sql_tables:\n",
    "    for c in t[\"columns\"]:\n",
    "        columns.append(c[\"__TableColumn__\"])\n",
    "\n",
    "columns_df = pd.DataFrame(columns)\n",
    "columns_df"
   ]
  },
  {
   "cell_type": "code",
   "execution_count": null,
   "metadata": {},
   "outputs": [],
   "source": [
    "columns_df.info()"
   ]
  },
  {
   "cell_type": "code",
   "execution_count": null,
   "metadata": {},
   "outputs": [],
   "source": [
    "print(\"COLUMN ID = \" + str(len(columns_df.id.unique())))\n",
    "print(columns_df.id.unique())\n",
    "print(\"TABLE ID = \" + str(len(columns_df.table_id.unique())))\n",
    "print(columns_df.table_id.unique())\n",
    "print(\"COLUMN NAMES = \" + str(len(columns_df.column_name.unique())))\n",
    "print(columns_df.column_name.unique())"
   ]
  },
  {
   "cell_type": "markdown",
   "metadata": {},
   "source": [
    "## Get Table Metrics"
   ]
  },
  {
   "cell_type": "code",
   "execution_count": null,
   "metadata": {},
   "outputs": [],
   "source": [
    "metrics = []\n",
    "for t in sql_tables:\n",
    "    for m in t[\"metrics\"]:\n",
    "        metrics.append(m[\"__SqlMetric__\"])\n",
    "        \n",
    "metrics_df = pd.DataFrame(metrics)\n",
    "metrics_df"
   ]
  },
  {
   "cell_type": "code",
   "execution_count": null,
   "metadata": {},
   "outputs": [],
   "source": [
    "metrics_df.info()"
   ]
  },
  {
   "cell_type": "code",
   "execution_count": null,
   "metadata": {},
   "outputs": [],
   "source": [
    "print(\"METRIC ID = \" + str(len(metrics_df.id.unique())))\n",
    "print(metrics_df.id.unique())\n",
    "print(\"TABLE ID = \" + str(len(metrics_df.table_id.unique())))\n",
    "print(metrics_df.table_id.unique())\n",
    "print(\"METRIC TYPE = \" + str(len(metrics_df.metric_type.unique())))\n",
    "print(metrics_df.metric_type.unique())\n",
    "print(\"METRIC NAMES = \" + str(len(metrics_df.metric_name.unique())))\n",
    "print(metrics_df.metric_name.unique())\n",
    "print(\"EXPRESSION = \" + str(len(metrics_df.expression.unique())))\n",
    "print(metrics_df.expression.unique())"
   ]
  },
  {
   "cell_type": "markdown",
   "metadata": {},
   "source": [
    "## Output List of Dashboard Attributes"
   ]
  },
  {
   "cell_type": "code",
   "execution_count": null,
   "metadata": {},
   "outputs": [],
   "source": [
    "dash_attributes = []\n",
    "\n",
    "for d in data[\"dashboards\"]:\n",
    "    dashboard_title = d[\"__Dashboard__\"][\"dashboard_title\"]\n",
    "    \n",
    "    for s in d[\"__Dashboard__\"][\"slices\"]:\n",
    "        slice_id = s[\"__Slice__\"][\"id\"]       \n",
    "        slice_name = s[\"__Slice__\"][\"slice_name\"]\n",
    "        datasource_name = s[\"__Slice__\"][\"datasource_name\"]\n",
    "        viz_type = s[\"__Slice__\"][\"viz_type\"]\n",
    "        \n",
    "        attributes = {\"dashboard_title\": dashboard_title,\n",
    "                      \"slice_id\": slice_id,\n",
    "                      \"slice_name\": slice_name,\n",
    "                      \"datasource_name\": datasource_name, \n",
    "                      \"viz_type\": viz_type\n",
    "                     }\n",
    "        \n",
    "        dash_attributes.append(attributes)"
   ]
  },
  {
   "cell_type": "markdown",
   "metadata": {},
   "source": [
    "#### Load Attributes to Datatable"
   ]
  },
  {
   "cell_type": "code",
   "execution_count": null,
   "metadata": {},
   "outputs": [],
   "source": [
    "dash_df = pd.DataFrame(dash_attributes).reindex(['dashboard_title', \"slice_id\", \"slice_name\", \"viz_type\", \"datasource_name\"], axis=1)\n",
    "dash_df"
   ]
  },
  {
   "cell_type": "code",
   "execution_count": null,
   "metadata": {},
   "outputs": [],
   "source": []
  }
 ],
 "metadata": {
  "kernelspec": {
   "display_name": "Python 3",
   "language": "python",
   "name": "python3"
  },
  "language_info": {
   "codemirror_mode": {
    "name": "ipython",
    "version": 3
   },
   "file_extension": ".py",
   "mimetype": "text/x-python",
   "name": "python",
   "nbconvert_exporter": "python",
   "pygments_lexer": "ipython3",
   "version": "3.7.3"
  }
 },
 "nbformat": 4,
 "nbformat_minor": 2
}
